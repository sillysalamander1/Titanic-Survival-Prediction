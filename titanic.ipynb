{
 "cells": [
  {
   "cell_type": "code",
   "execution_count": 14,
   "metadata": {},
   "outputs": [],
   "source": [
    "import pandas as pd\n",
    "\n",
    "# Read the data\n",
    "\n",
    "df = pd.read_csv('data/train.csv')\n",
    "\n",
    "\n",
    "test_data = pd.read_csv('data/test.csv')\n",
    "\n",
    "## Binary Classification Problem : Random Forest Implementation\n"
   ]
  },
  {
   "cell_type": "code",
   "execution_count": 21,
   "metadata": {},
   "outputs": [],
   "source": [
    "from sklearn.ensemble import RandomForestClassifier\n",
    "\n",
    "\n",
    "y = df['Survived']\n",
    "\n",
    "## What features are important? Factors in the data?\n",
    "#Pclass,Sex,Age\n",
    "\n",
    "features = ['Pclass','Sex','SibSp']\n",
    "X = pd.get_dummies(df[features]) ## Gets hot encoding for categorical variables\n",
    "\n",
    "X_test = pd.get_dummies(test_data[features])\n",
    "\n",
    "\n",
    "model = RandomForestClassifier(n_estimators=100,max_depth=5,random_state=1)\n",
    "model.fit(X,y)\n",
    "\n",
    "predictions = model.predict(X_test)\n",
    "\n",
    "output = pd.DataFrame({'PassengerId': test_data.PassengerId, 'Survived': predictions})\n",
    "output.to_csv('data/my_submission.csv', index=False)"
   ]
  }
 ],
 "metadata": {
  "kernelspec": {
   "display_name": "pandas",
   "language": "python",
   "name": "python3"
  },
  "language_info": {
   "codemirror_mode": {
    "name": "ipython",
    "version": 3
   },
   "file_extension": ".py",
   "mimetype": "text/x-python",
   "name": "python",
   "nbconvert_exporter": "python",
   "pygments_lexer": "ipython3",
   "version": "3.11.3"
  },
  "orig_nbformat": 4
 },
 "nbformat": 4,
 "nbformat_minor": 2
}
